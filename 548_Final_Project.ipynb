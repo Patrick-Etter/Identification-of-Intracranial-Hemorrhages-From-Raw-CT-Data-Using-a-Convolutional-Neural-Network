{
  "cells": [
    {
      "cell_type": "code",
      "execution_count": 2,
      "metadata": {
        "colab": {
          "base_uri": "https://localhost:8080/"
        },
        "id": "WEipMUpzP8o8",
        "outputId": "8a0d1da3-5118-467f-b94a-8c74211a5313"
      },
      "outputs": [
        {
          "output_type": "stream",
          "name": "stdout",
          "text": [
            "Drive already mounted at /content/drive; to attempt to forcibly remount, call drive.mount(\"/content/drive\", force_remount=True).\n"
          ]
        }
      ],
      "source": [
        "import tensorflow as tf\n",
        "import numpy as np\n",
        "import os\n",
        "import matplotlib.pyplot as plt\n",
        "import csv\n",
        "from google.colab import drive\n",
        "drive.mount('/content/drive')\n",
        "os.chdir('/content/')"
      ]
    },
    {
      "cell_type": "code",
      "execution_count": 3,
      "metadata": {
        "id": "p6Zvr9iCeLdi"
      },
      "outputs": [],
      "source": [
        "sino_list = [k for k in os.listdir('/content/drive/MyDrive/Sinograms')]\n",
        "sino_list_sort = sorted(sino_list)\n",
        "\n",
        "filename = open(\"train_labels_subsection.csv\", 'r')\n",
        "file = csv.DictReader(filename)\n",
        "IDs = []\n",
        "labels = []\n",
        "for col in file:\n",
        "  IDs.append(col['0'])\n",
        "  labels.append(col['1'])\n"
      ]
    },
    {
      "cell_type": "code",
      "execution_count": 4,
      "metadata": {
        "id": "tEo0y-PxAg1y"
      },
      "outputs": [],
      "source": [
        "# Unwindowed\n",
        "sino_list_IDs = []\n",
        "\n",
        "for element in sino_list:\n",
        "    sino_list_IDs.append(element[:-9])\n",
        "\n",
        "new_label_list = []\n",
        "for k in range(len(sino_list)):\n",
        "    ind = IDs.index(sino_list_IDs[k])\n",
        "    new_label_list.append(labels[ind])\n"
      ]
    },
    {
      "cell_type": "code",
      "execution_count": 5,
      "metadata": {
        "id": "liyaGFq7XYzL"
      },
      "outputs": [],
      "source": [
        "x_data = np.zeros((len(sino_list), 512, 181))\n",
        "os.chdir('/content/drive/MyDrive/Sinograms')\n",
        "\n",
        "for k in range(len(sino_list)):\n",
        "    x_data[k, :, :] = np.loadtxt(sino_list[k], dtype=float, delimiter=',')\n"
      ]
    },
    {
      "cell_type": "code",
      "execution_count": 65,
      "metadata": {
        "id": "9Ykp8DuRhfAk"
      },
      "outputs": [],
      "source": [
        "x_data = np.array(x_data).reshape(-1, 512, 181, 1)\n",
        "x_train = x_data[0:1900]\n",
        "y_train = new_label_list[0:1900]\n",
        "y_train = np.asarray(y_train, dtype=float)\n",
        "x_val = x_data[1900:]\n",
        "y_val = new_label_list[1900:]\n",
        "y_val = np.asarray(y_val, dtype=float)"
      ]
    },
    {
      "cell_type": "code",
      "execution_count": 66,
      "metadata": {
        "id": "IbGd3clZj_ru"
      },
      "outputs": [],
      "source": [
        "my_model = tf.keras.models.Sequential([\n",
        "    tf.keras.layers.GaussianNoise(0.05),\n",
        "    tf.keras.layers.Conv2D(1, (3, 3), padding='same'),\n",
        "    tf.keras.layers.BatchNormalization(),\n",
        "    tf.keras.layers.Activation('relu'),\n",
        "    tf.keras.layers.Conv2D(1, (3, 3), padding='same'),\n",
        "    tf.keras.layers.BatchNormalization(),\n",
        "    tf.keras.layers.Activation('relu'),\n",
        "    tf.keras.layers.MaxPool2D((2, 2)),\n",
        "    tf.keras.layers.GaussianNoise(0.05),\n",
        "    tf.keras.layers.Conv2D(2, (3, 3), padding='same'),\n",
        "    tf.keras.layers.BatchNormalization(),\n",
        "    tf.keras.layers.Activation('relu'),\n",
        "    tf.keras.layers.Conv2D(2, (3, 3), padding='same'),\n",
        "    tf.keras.layers.BatchNormalization(),\n",
        "    tf.keras.layers.Activation('relu'),\n",
        "    tf.keras.layers.MaxPool2D((2, 2)),\n",
        "    tf.keras.layers.Flatten(),\n",
        "    tf.keras.layers.Dense(1)\n",
        "])"
      ]
    },
    {
      "cell_type": "code",
      "execution_count": 67,
      "metadata": {
        "id": "x0alO9CtiMhW"
      },
      "outputs": [],
      "source": [
        "my_optimizer = tf.keras.optimizers.Adam(learning_rate = 0.01)\n",
        "loss_fn = tf.keras.losses.BinaryCrossentropy(from_logits=True)\n",
        "my_model.compile(optimizer=my_optimizer, loss=loss_fn, metrics=['accuracy'])"
      ]
    },
    {
      "cell_type": "code",
      "execution_count": 68,
      "metadata": {
        "colab": {
          "base_uri": "https://localhost:8080/"
        },
        "id": "cS7G7kstijAs",
        "outputId": "2f16bbbb-862f-457f-ba52-a1f03dde2211"
      },
      "outputs": [
        {
          "output_type": "stream",
          "name": "stdout",
          "text": [
            "Epoch 1/10\n",
            "19/19 [==============================] - 116s 6s/step - loss: 3.2649 - accuracy: 0.7453 - val_loss: 2.7317 - val_accuracy: 0.8400\n",
            "Epoch 2/10\n",
            "19/19 [==============================] - 114s 6s/step - loss: 0.7891 - accuracy: 0.7853 - val_loss: 2.9901 - val_accuracy: 0.8400\n",
            "Epoch 3/10\n",
            "19/19 [==============================] - 114s 6s/step - loss: 0.6305 - accuracy: 0.8042 - val_loss: 2.7447 - val_accuracy: 0.8400\n",
            "Epoch 4/10\n",
            "19/19 [==============================] - 114s 6s/step - loss: 0.6844 - accuracy: 0.8111 - val_loss: 3.7231 - val_accuracy: 0.8400\n",
            "Epoch 5/10\n",
            "19/19 [==============================] - 114s 6s/step - loss: 0.4289 - accuracy: 0.8421 - val_loss: 1.5186 - val_accuracy: 0.8400\n",
            "Epoch 6/10\n",
            "19/19 [==============================] - 114s 6s/step - loss: 1.3882 - accuracy: 0.7716 - val_loss: 0.5079 - val_accuracy: 0.8400\n",
            "Epoch 7/10\n",
            "19/19 [==============================] - 114s 6s/step - loss: 0.8471 - accuracy: 0.7905 - val_loss: 0.5575 - val_accuracy: 0.8400\n",
            "Epoch 8/10\n",
            "19/19 [==============================] - 114s 6s/step - loss: 0.5172 - accuracy: 0.8279 - val_loss: 0.7346 - val_accuracy: 0.8400\n",
            "Epoch 9/10\n",
            "19/19 [==============================] - 115s 6s/step - loss: 0.4329 - accuracy: 0.8363 - val_loss: 0.9957 - val_accuracy: 0.8400\n",
            "Epoch 10/10\n",
            "19/19 [==============================] - 114s 6s/step - loss: 0.5092 - accuracy: 0.8153 - val_loss: 0.7417 - val_accuracy: 0.8400\n"
          ]
        },
        {
          "output_type": "execute_result",
          "data": {
            "text/plain": [
              "<keras.callbacks.History at 0x7fa3da1bdbd0>"
            ]
          },
          "metadata": {},
          "execution_count": 68
        }
      ],
      "source": [
        "num_epochs = 10\n",
        "my_model.fit(x_train, y_train, epochs=num_epochs, shuffle=True, batch_size = 100, steps_per_epoch=19, validation_data=(x_val, y_val), validation_freq=1)"
      ]
    },
    {
      "cell_type": "code",
      "execution_count": 69,
      "metadata": {
        "id": "usLo-5QBI2Kk"
      },
      "outputs": [],
      "source": [
        "model_45_30 = tf.keras.models.Sequential([\n",
        "    tf.keras.layers.GaussianNoise(0.05),\n",
        "    tf.keras.layers.Conv2D(1, (3, 3), padding='same'),\n",
        "    tf.keras.layers.BatchNormalization(),\n",
        "    tf.keras.layers.Activation('relu'),\n",
        "    tf.keras.layers.Conv2D(1, (3, 3), padding='same'),\n",
        "    tf.keras.layers.BatchNormalization(),\n",
        "    tf.keras.layers.Activation('relu'),\n",
        "    tf.keras.layers.MaxPool2D((2, 2)),\n",
        "    tf.keras.layers.GaussianNoise(0.05),\n",
        "    tf.keras.layers.Conv2D(2, (3, 3), padding='same'),\n",
        "    tf.keras.layers.BatchNormalization(),\n",
        "    tf.keras.layers.Activation('relu'),\n",
        "    tf.keras.layers.Conv2D(2, (3, 3), padding='same'),\n",
        "    tf.keras.layers.BatchNormalization(),\n",
        "    tf.keras.layers.Activation('sigmoid'),\n",
        "    tf.keras.layers.MaxPool2D((2, 2)),\n",
        "    tf.keras.layers.Flatten(),\n",
        "    tf.keras.layers.Dense(1)\n",
        "])\n",
        "model_45_60 = tf.keras.models.Sequential([\n",
        "    tf.keras.layers.GaussianNoise(0.05),\n",
        "    tf.keras.layers.Conv2D(1, (3, 3), padding='same'),\n",
        "    tf.keras.layers.BatchNormalization(),\n",
        "    tf.keras.layers.Activation('relu'),\n",
        "    tf.keras.layers.Conv2D(1, (3, 3), padding='same'),\n",
        "    tf.keras.layers.BatchNormalization(),\n",
        "    tf.keras.layers.Activation('relu'),\n",
        "    tf.keras.layers.MaxPool2D((2, 2)),\n",
        "    tf.keras.layers.GaussianNoise(0.05),\n",
        "    tf.keras.layers.Conv2D(2, (3, 3), padding='same'),\n",
        "    tf.keras.layers.BatchNormalization(),\n",
        "    tf.keras.layers.Activation('relu'),\n",
        "    tf.keras.layers.Conv2D(2, (3, 3), padding='same'),\n",
        "    tf.keras.layers.BatchNormalization(),\n",
        "    tf.keras.layers.Activation('sigmoid'),\n",
        "    tf.keras.layers.MaxPool2D((2, 2)),\n",
        "    tf.keras.layers.Flatten(),\n",
        "    tf.keras.layers.Dense(1)\n",
        "])\n",
        "model_45_90 = tf.keras.models.Sequential([\n",
        "    tf.keras.layers.GaussianNoise(0.05),\n",
        "    tf.keras.layers.Conv2D(1, (3, 3), padding='same'),\n",
        "    tf.keras.layers.BatchNormalization(),\n",
        "    tf.keras.layers.Activation('relu'),\n",
        "    tf.keras.layers.Conv2D(1, (3, 3), padding='same'),\n",
        "    tf.keras.layers.BatchNormalization(),\n",
        "    tf.keras.layers.Activation('relu'),\n",
        "    tf.keras.layers.MaxPool2D((2, 2)),\n",
        "    tf.keras.layers.GaussianNoise(0.05),\n",
        "    tf.keras.layers.Conv2D(2, (3, 3), padding='same'),\n",
        "    tf.keras.layers.BatchNormalization(),\n",
        "    tf.keras.layers.Activation('relu'),\n",
        "    tf.keras.layers.Conv2D(2, (3, 3), padding='same'),\n",
        "    tf.keras.layers.BatchNormalization(),\n",
        "    tf.keras.layers.Activation('sigmoid'),\n",
        "    tf.keras.layers.MaxPool2D((2, 2)),\n",
        "    tf.keras.layers.Flatten(),\n",
        "    tf.keras.layers.Dense(1)\n",
        "])"
      ]
    },
    {
      "cell_type": "code",
      "execution_count": 70,
      "metadata": {
        "id": "dt1HeMW1MFku"
      },
      "outputs": [],
      "source": [
        "my_optimizer = tf.keras.optimizers.Adam(learning_rate = 0.01)\n",
        "loss_fn = tf.keras.losses.BinaryCrossentropy(from_logits=True)"
      ]
    },
    {
      "cell_type": "code",
      "execution_count": 73,
      "metadata": {
        "id": "qhgAVO1UMKpX"
      },
      "outputs": [],
      "source": [
        "model_45_30.compile(optimizer=my_optimizer, loss=loss_fn, metrics=['accuracy'])"
      ]
    },
    {
      "cell_type": "code",
      "execution_count": 74,
      "metadata": {
        "colab": {
          "base_uri": "https://localhost:8080/"
        },
        "id": "6ojKbwacMuEd",
        "outputId": "e9d38efd-d307-4000-aab3-e8a891532675"
      },
      "outputs": [
        {
          "output_type": "stream",
          "name": "stdout",
          "text": [
            "Epoch 1/10\n",
            "19/19 [==============================] - 21s 1s/step - loss: 1.1693 - accuracy: 0.7426 - val_loss: 0.6069 - val_accuracy: 0.8400\n",
            "Epoch 2/10\n",
            "19/19 [==============================] - 20s 1s/step - loss: 0.5363 - accuracy: 0.8326 - val_loss: 0.6487 - val_accuracy: 0.8400\n",
            "Epoch 3/10\n",
            "19/19 [==============================] - 20s 1s/step - loss: 0.4563 - accuracy: 0.8353 - val_loss: 0.5286 - val_accuracy: 0.8400\n",
            "Epoch 4/10\n",
            "19/19 [==============================] - 20s 1s/step - loss: 0.4147 - accuracy: 0.8353 - val_loss: 0.4867 - val_accuracy: 0.8400\n",
            "Epoch 5/10\n",
            "19/19 [==============================] - 20s 1s/step - loss: 0.4156 - accuracy: 0.8353 - val_loss: 0.5133 - val_accuracy: 0.8400\n",
            "Epoch 6/10\n",
            "19/19 [==============================] - 20s 1s/step - loss: 0.4122 - accuracy: 0.8353 - val_loss: 0.4685 - val_accuracy: 0.8400\n",
            "Epoch 7/10\n",
            "19/19 [==============================] - 20s 1s/step - loss: 0.4083 - accuracy: 0.8353 - val_loss: 0.4207 - val_accuracy: 0.8400\n",
            "Epoch 8/10\n",
            "19/19 [==============================] - 20s 1s/step - loss: 0.4006 - accuracy: 0.8353 - val_loss: 0.4043 - val_accuracy: 0.8400\n",
            "Epoch 9/10\n",
            "19/19 [==============================] - 20s 1s/step - loss: 0.4052 - accuracy: 0.8358 - val_loss: 0.4146 - val_accuracy: 0.8400\n",
            "Epoch 10/10\n",
            "19/19 [==============================] - 20s 1s/step - loss: 0.4114 - accuracy: 0.8353 - val_loss: 0.3882 - val_accuracy: 0.8400\n"
          ]
        },
        {
          "output_type": "execute_result",
          "data": {
            "text/plain": [
              "<keras.callbacks.History at 0x7fa3d9fcb190>"
            ]
          },
          "metadata": {},
          "execution_count": 74
        }
      ],
      "source": [
        "model_45_30.fit(x_train[:, :, 30:60, :], y_train, epochs=num_epochs, batch_size = 100, steps_per_epoch=19, shuffle=True, validation_data=(x_val[:, :, 30:60, :], y_val), validation_freq=1)"
      ]
    },
    {
      "cell_type": "code",
      "execution_count": 75,
      "metadata": {
        "id": "fjfXN31DMMWd"
      },
      "outputs": [],
      "source": [
        "model_45_60.compile(optimizer=my_optimizer, loss=loss_fn, metrics=['accuracy'])"
      ]
    },
    {
      "cell_type": "code",
      "execution_count": 76,
      "metadata": {
        "colab": {
          "base_uri": "https://localhost:8080/"
        },
        "id": "ylQne1GtNC2b",
        "outputId": "8715e1e5-274a-4e3c-f0a2-fc76924615e5"
      },
      "outputs": [
        {
          "output_type": "stream",
          "name": "stdout",
          "text": [
            "Epoch 1/10\n",
            "19/19 [==============================] - 40s 2s/step - loss: 6.6827 - accuracy: 0.7647 - val_loss: 2.1786 - val_accuracy: 0.8400\n",
            "Epoch 2/10\n",
            "19/19 [==============================] - 38s 2s/step - loss: 2.0763 - accuracy: 0.7353 - val_loss: 1.4850 - val_accuracy: 0.8400\n",
            "Epoch 3/10\n",
            "19/19 [==============================] - 39s 2s/step - loss: 0.7230 - accuracy: 0.7921 - val_loss: 0.4198 - val_accuracy: 0.8400\n",
            "Epoch 4/10\n",
            "19/19 [==============================] - 38s 2s/step - loss: 0.4541 - accuracy: 0.8300 - val_loss: 0.4554 - val_accuracy: 0.8400\n",
            "Epoch 5/10\n",
            "19/19 [==============================] - 39s 2s/step - loss: 0.4488 - accuracy: 0.8353 - val_loss: 0.5012 - val_accuracy: 0.8400\n",
            "Epoch 6/10\n",
            "19/19 [==============================] - 38s 2s/step - loss: 0.4196 - accuracy: 0.8353 - val_loss: 0.4105 - val_accuracy: 0.8400\n",
            "Epoch 7/10\n",
            "19/19 [==============================] - 39s 2s/step - loss: 0.4230 - accuracy: 0.8353 - val_loss: 0.4566 - val_accuracy: 0.8400\n",
            "Epoch 8/10\n",
            "19/19 [==============================] - 39s 2s/step - loss: 0.4405 - accuracy: 0.8353 - val_loss: 0.4089 - val_accuracy: 0.8400\n",
            "Epoch 9/10\n",
            "19/19 [==============================] - 39s 2s/step - loss: 0.4252 - accuracy: 0.8347 - val_loss: 0.4304 - val_accuracy: 0.8400\n",
            "Epoch 10/10\n",
            "19/19 [==============================] - 40s 2s/step - loss: 0.4496 - accuracy: 0.8347 - val_loss: 0.5208 - val_accuracy: 0.8400\n"
          ]
        },
        {
          "output_type": "execute_result",
          "data": {
            "text/plain": [
              "<keras.callbacks.History at 0x7fa3d9ebdad0>"
            ]
          },
          "metadata": {},
          "execution_count": 76
        }
      ],
      "source": [
        "model_45_60.fit(x_train[:, :, 15:75, :], y_train, epochs=num_epochs, shuffle=True, batch_size = 100, steps_per_epoch=19, validation_data=(x_val[:, :, 15:75, :], y_val), validation_freq=1)"
      ]
    },
    {
      "cell_type": "code",
      "execution_count": 77,
      "metadata": {
        "id": "OlHjOIHUMMul"
      },
      "outputs": [],
      "source": [
        "model_45_90.compile(optimizer=my_optimizer, loss=loss_fn, metrics=['accuracy'])"
      ]
    },
    {
      "cell_type": "code",
      "execution_count": 78,
      "metadata": {
        "colab": {
          "base_uri": "https://localhost:8080/"
        },
        "id": "8rXUpitjNOAb",
        "outputId": "0ab8aedb-6197-46be-d665-4380e1d9fd91"
      },
      "outputs": [
        {
          "output_type": "stream",
          "name": "stdout",
          "text": [
            "Epoch 1/10\n",
            "19/19 [==============================] - 59s 3s/step - loss: 6.0774 - accuracy: 0.7163 - val_loss: 13.0609 - val_accuracy: 0.8400\n",
            "Epoch 2/10\n",
            "19/19 [==============================] - 57s 3s/step - loss: 1.7192 - accuracy: 0.7495 - val_loss: 5.2531 - val_accuracy: 0.8400\n",
            "Epoch 3/10\n",
            "19/19 [==============================] - 57s 3s/step - loss: 0.8281 - accuracy: 0.7774 - val_loss: 3.5190 - val_accuracy: 0.8400\n",
            "Epoch 4/10\n",
            "19/19 [==============================] - 57s 3s/step - loss: 0.6378 - accuracy: 0.8011 - val_loss: 0.9310 - val_accuracy: 0.8300\n",
            "Epoch 5/10\n",
            "19/19 [==============================] - 57s 3s/step - loss: 0.7572 - accuracy: 0.7600 - val_loss: 0.6956 - val_accuracy: 0.8300\n",
            "Epoch 6/10\n",
            "19/19 [==============================] - 57s 3s/step - loss: 0.6059 - accuracy: 0.8037 - val_loss: 1.0209 - val_accuracy: 0.6600\n",
            "Epoch 7/10\n",
            "19/19 [==============================] - 57s 3s/step - loss: 0.4764 - accuracy: 0.8226 - val_loss: 0.5898 - val_accuracy: 0.8100\n",
            "Epoch 8/10\n",
            "19/19 [==============================] - 57s 3s/step - loss: 0.4642 - accuracy: 0.8284 - val_loss: 0.5490 - val_accuracy: 0.8500\n",
            "Epoch 9/10\n",
            "19/19 [==============================] - 57s 3s/step - loss: 0.4616 - accuracy: 0.8321 - val_loss: 0.5899 - val_accuracy: 0.7000\n",
            "Epoch 10/10\n",
            "19/19 [==============================] - 57s 3s/step - loss: 0.4312 - accuracy: 0.8363 - val_loss: 0.4477 - val_accuracy: 0.8500\n"
          ]
        },
        {
          "output_type": "execute_result",
          "data": {
            "text/plain": [
              "<keras.callbacks.History at 0x7fa3d811e910>"
            ]
          },
          "metadata": {},
          "execution_count": 78
        }
      ],
      "source": [
        "model_45_90.fit(x_train[:, :, 0:90, :], y_train, epochs=num_epochs, shuffle=True, batch_size = 100, steps_per_epoch=19, validation_data=(x_val[:, :, 0:90, :], y_val), validation_freq=1)"
      ]
    },
    {
      "cell_type": "code",
      "execution_count": 79,
      "metadata": {
        "id": "kZxDKvzjMZQW"
      },
      "outputs": [],
      "source": [
        "model_90_30 = tf.keras.models.Sequential([\n",
        "    tf.keras.layers.GaussianNoise(0.05),\n",
        "    tf.keras.layers.Conv2D(1, (3, 3), padding='same'),\n",
        "    tf.keras.layers.BatchNormalization(),\n",
        "    tf.keras.layers.Activation('relu'),\n",
        "    tf.keras.layers.Conv2D(1, (3, 3), padding='same'),\n",
        "    tf.keras.layers.BatchNormalization(),\n",
        "    tf.keras.layers.Activation('relu'),\n",
        "    tf.keras.layers.MaxPool2D((2, 2)),\n",
        "    tf.keras.layers.GaussianNoise(0.05),\n",
        "    tf.keras.layers.Conv2D(2, (3, 3), padding='same'),\n",
        "    tf.keras.layers.BatchNormalization(),\n",
        "    tf.keras.layers.Activation('relu'),\n",
        "    tf.keras.layers.Conv2D(2, (3, 3), padding='same'),\n",
        "    tf.keras.layers.BatchNormalization(),\n",
        "    tf.keras.layers.Activation('sigmoid'),\n",
        "    tf.keras.layers.MaxPool2D((2, 2)),\n",
        "    tf.keras.layers.Flatten(),\n",
        "    tf.keras.layers.Dense(1)\n",
        "])\n",
        "model_90_60 = tf.keras.models.Sequential([\n",
        "    tf.keras.layers.GaussianNoise(0.05),\n",
        "    tf.keras.layers.Conv2D(1, (3, 3), padding='same'),\n",
        "    tf.keras.layers.BatchNormalization(),\n",
        "    tf.keras.layers.Activation('relu'),\n",
        "    tf.keras.layers.Conv2D(1, (3, 3), padding='same'),\n",
        "    tf.keras.layers.BatchNormalization(),\n",
        "    tf.keras.layers.Activation('relu'),\n",
        "    tf.keras.layers.MaxPool2D((2, 2)),\n",
        "    tf.keras.layers.GaussianNoise(0.05),\n",
        "    tf.keras.layers.Conv2D(2, (3, 3), padding='same'),\n",
        "    tf.keras.layers.BatchNormalization(),\n",
        "    tf.keras.layers.Activation('relu'),\n",
        "    tf.keras.layers.Conv2D(2, (3, 3), padding='same'),\n",
        "    tf.keras.layers.BatchNormalization(),\n",
        "    tf.keras.layers.Activation('sigmoid'),\n",
        "    tf.keras.layers.MaxPool2D((2, 2)),\n",
        "    tf.keras.layers.Flatten(),\n",
        "    tf.keras.layers.Dense(1)\n",
        "])\n",
        "model_90_90 = tf.keras.models.Sequential([\n",
        "    tf.keras.layers.GaussianNoise(0.05),\n",
        "    tf.keras.layers.Conv2D(1, (3, 3), padding='same'),\n",
        "    tf.keras.layers.BatchNormalization(),\n",
        "    tf.keras.layers.Activation('relu'),\n",
        "    tf.keras.layers.Conv2D(1, (3, 3), padding='same'),\n",
        "    tf.keras.layers.BatchNormalization(),\n",
        "    tf.keras.layers.Activation('relu'),\n",
        "    tf.keras.layers.MaxPool2D((2, 2)),\n",
        "    tf.keras.layers.GaussianNoise(0.05),\n",
        "    tf.keras.layers.Conv2D(2, (3, 3), padding='same'),\n",
        "    tf.keras.layers.BatchNormalization(),\n",
        "    tf.keras.layers.Activation('relu'),\n",
        "    tf.keras.layers.Conv2D(2, (3, 3), padding='same'),\n",
        "    tf.keras.layers.BatchNormalization(),\n",
        "    tf.keras.layers.Activation('sigmoid'),\n",
        "    tf.keras.layers.MaxPool2D((2, 2)),\n",
        "    tf.keras.layers.Flatten(),\n",
        "    tf.keras.layers.Dense(1)\n",
        "])"
      ]
    },
    {
      "cell_type": "code",
      "execution_count": 80,
      "metadata": {
        "id": "iLIhimRvNfDB"
      },
      "outputs": [],
      "source": [
        "model_90_30.compile(optimizer=my_optimizer, loss=loss_fn, metrics=['accuracy'])"
      ]
    },
    {
      "cell_type": "code",
      "execution_count": 81,
      "metadata": {
        "id": "FjClgPJqNfrU",
        "colab": {
          "base_uri": "https://localhost:8080/"
        },
        "outputId": "592d472d-a48a-405f-b539-663c609d89dc"
      },
      "outputs": [
        {
          "output_type": "stream",
          "name": "stdout",
          "text": [
            "Epoch 1/10\n",
            "19/19 [==============================] - 21s 1s/step - loss: 4.0159 - accuracy: 0.7689 - val_loss: 2.3994 - val_accuracy: 0.8400\n",
            "Epoch 2/10\n",
            "19/19 [==============================] - 19s 1s/step - loss: 1.2009 - accuracy: 0.7463 - val_loss: 0.8576 - val_accuracy: 0.8400\n",
            "Epoch 3/10\n",
            "19/19 [==============================] - 20s 1s/step - loss: 0.4695 - accuracy: 0.8353 - val_loss: 0.5847 - val_accuracy: 0.8400\n",
            "Epoch 4/10\n",
            "19/19 [==============================] - 19s 1s/step - loss: 0.4126 - accuracy: 0.8353 - val_loss: 0.5260 - val_accuracy: 0.8400\n",
            "Epoch 5/10\n",
            "19/19 [==============================] - 19s 1s/step - loss: 0.4211 - accuracy: 0.8353 - val_loss: 0.4349 - val_accuracy: 0.8400\n",
            "Epoch 6/10\n",
            "19/19 [==============================] - 20s 1s/step - loss: 0.4215 - accuracy: 0.8353 - val_loss: 0.3844 - val_accuracy: 0.8400\n",
            "Epoch 7/10\n",
            "19/19 [==============================] - 19s 1s/step - loss: 0.4134 - accuracy: 0.8353 - val_loss: 0.4085 - val_accuracy: 0.8400\n",
            "Epoch 8/10\n",
            "19/19 [==============================] - 19s 1s/step - loss: 0.4191 - accuracy: 0.8353 - val_loss: 0.3835 - val_accuracy: 0.8400\n",
            "Epoch 9/10\n",
            "19/19 [==============================] - 19s 1s/step - loss: 0.4098 - accuracy: 0.8353 - val_loss: 0.4297 - val_accuracy: 0.8400\n",
            "Epoch 10/10\n",
            "19/19 [==============================] - 19s 1s/step - loss: 0.4202 - accuracy: 0.8353 - val_loss: 0.4452 - val_accuracy: 0.8400\n"
          ]
        },
        {
          "output_type": "execute_result",
          "data": {
            "text/plain": [
              "<keras.callbacks.History at 0x7fa3d7e1fa90>"
            ]
          },
          "metadata": {},
          "execution_count": 81
        }
      ],
      "source": [
        "model_90_30.fit(x_train[:, :, 75:105, :], y_train, epochs=num_epochs, shuffle=True, batch_size = 100, steps_per_epoch=19, validation_data=(x_val[:, :, 75:105, :], y_val), validation_freq=1)"
      ]
    },
    {
      "cell_type": "code",
      "execution_count": 82,
      "metadata": {
        "id": "Inz9yROtNf7U"
      },
      "outputs": [],
      "source": [
        "model_90_60.compile(optimizer=my_optimizer, loss=loss_fn, metrics=['accuracy'])"
      ]
    },
    {
      "cell_type": "code",
      "execution_count": 83,
      "metadata": {
        "id": "K91wg4RDNgLq",
        "colab": {
          "base_uri": "https://localhost:8080/"
        },
        "outputId": "882ec6e3-b5c8-4e8e-a977-c218675fea26"
      },
      "outputs": [
        {
          "output_type": "stream",
          "name": "stdout",
          "text": [
            "Epoch 1/10\n",
            "19/19 [==============================] - 40s 2s/step - loss: 6.9288 - accuracy: 0.7437 - val_loss: 4.0102 - val_accuracy: 0.8400\n",
            "Epoch 2/10\n",
            "19/19 [==============================] - 38s 2s/step - loss: 1.6373 - accuracy: 0.7532 - val_loss: 2.2364 - val_accuracy: 0.8400\n",
            "Epoch 3/10\n",
            "19/19 [==============================] - 38s 2s/step - loss: 0.7640 - accuracy: 0.7763 - val_loss: 1.7608 - val_accuracy: 0.8400\n",
            "Epoch 4/10\n",
            "19/19 [==============================] - 38s 2s/step - loss: 0.4779 - accuracy: 0.8305 - val_loss: 0.8159 - val_accuracy: 0.8100\n",
            "Epoch 5/10\n",
            "19/19 [==============================] - 38s 2s/step - loss: 0.4199 - accuracy: 0.8353 - val_loss: 0.6974 - val_accuracy: 0.8200\n",
            "Epoch 6/10\n",
            "19/19 [==============================] - 39s 2s/step - loss: 0.4060 - accuracy: 0.8358 - val_loss: 0.5456 - val_accuracy: 0.8400\n",
            "Epoch 7/10\n",
            "19/19 [==============================] - 39s 2s/step - loss: 0.4031 - accuracy: 0.8368 - val_loss: 0.5141 - val_accuracy: 0.8400\n",
            "Epoch 8/10\n",
            "19/19 [==============================] - 38s 2s/step - loss: 0.4198 - accuracy: 0.8337 - val_loss: 0.4135 - val_accuracy: 0.8200\n",
            "Epoch 9/10\n",
            "19/19 [==============================] - 38s 2s/step - loss: 0.4140 - accuracy: 0.8353 - val_loss: 0.4034 - val_accuracy: 0.8400\n",
            "Epoch 10/10\n",
            "19/19 [==============================] - 38s 2s/step - loss: 0.3982 - accuracy: 0.8358 - val_loss: 0.3941 - val_accuracy: 0.8400\n"
          ]
        },
        {
          "output_type": "execute_result",
          "data": {
            "text/plain": [
              "<keras.callbacks.History at 0x7fa3d9f3a4d0>"
            ]
          },
          "metadata": {},
          "execution_count": 83
        }
      ],
      "source": [
        "model_90_60.fit(x_train[:, :, 60:120, :], y_train, epochs=num_epochs, shuffle=True, batch_size = 100, steps_per_epoch=19, validation_data=(x_val[:, :, 60:120, :], y_val), validation_freq=1)"
      ]
    },
    {
      "cell_type": "code",
      "execution_count": 84,
      "metadata": {
        "id": "84CzpQTnNgji"
      },
      "outputs": [],
      "source": [
        "model_90_90.compile(optimizer=my_optimizer, loss=loss_fn, metrics=['accuracy'])"
      ]
    },
    {
      "cell_type": "code",
      "execution_count": 85,
      "metadata": {
        "id": "cUIbMHqTNgzb",
        "colab": {
          "base_uri": "https://localhost:8080/"
        },
        "outputId": "54b2d684-a4d7-4bcb-caba-5f1b632a0a2a"
      },
      "outputs": [
        {
          "output_type": "stream",
          "name": "stdout",
          "text": [
            "Epoch 1/10\n",
            "19/19 [==============================] - 58s 3s/step - loss: 5.5556 - accuracy: 0.7437 - val_loss: 3.1950 - val_accuracy: 0.8400\n",
            "Epoch 2/10\n",
            "19/19 [==============================] - 57s 3s/step - loss: 0.8904 - accuracy: 0.7863 - val_loss: 4.2232 - val_accuracy: 0.8400\n",
            "Epoch 3/10\n",
            "19/19 [==============================] - 58s 3s/step - loss: 0.4915 - accuracy: 0.8237 - val_loss: 2.6637 - val_accuracy: 0.8400\n",
            "Epoch 4/10\n",
            "19/19 [==============================] - 57s 3s/step - loss: 0.4542 - accuracy: 0.8274 - val_loss: 1.3171 - val_accuracy: 0.8400\n",
            "Epoch 5/10\n",
            "19/19 [==============================] - 57s 3s/step - loss: 0.4350 - accuracy: 0.8368 - val_loss: 1.2207 - val_accuracy: 0.8400\n",
            "Epoch 6/10\n",
            "19/19 [==============================] - 57s 3s/step - loss: 0.7011 - accuracy: 0.8147 - val_loss: 4.8332 - val_accuracy: 0.1600\n",
            "Epoch 7/10\n",
            "19/19 [==============================] - 57s 3s/step - loss: 1.0743 - accuracy: 0.7516 - val_loss: 1.2626 - val_accuracy: 0.8400\n",
            "Epoch 8/10\n",
            "19/19 [==============================] - 57s 3s/step - loss: 0.4925 - accuracy: 0.8332 - val_loss: 0.6216 - val_accuracy: 0.8000\n",
            "Epoch 9/10\n",
            "19/19 [==============================] - 57s 3s/step - loss: 0.4916 - accuracy: 0.8242 - val_loss: 0.4216 - val_accuracy: 0.8500\n",
            "Epoch 10/10\n",
            "19/19 [==============================] - 57s 3s/step - loss: 0.4272 - accuracy: 0.8332 - val_loss: 0.3775 - val_accuracy: 0.8500\n"
          ]
        },
        {
          "output_type": "execute_result",
          "data": {
            "text/plain": [
              "<keras.callbacks.History at 0x7fa3e3b10810>"
            ]
          },
          "metadata": {},
          "execution_count": 85
        }
      ],
      "source": [
        "model_90_90.fit(x_train[:, :, 45:135, :], y_train, epochs=num_epochs, shuffle=True, batch_size = 100, steps_per_epoch=19, validation_data=(x_val[:, :, 45:135, :], y_val), validation_freq=1)"
      ]
    },
    {
      "cell_type": "code",
      "execution_count": 86,
      "metadata": {
        "id": "-PhhqEcnMif0"
      },
      "outputs": [],
      "source": [
        "model_135_30 = tf.keras.models.Sequential([\n",
        "    tf.keras.layers.GaussianNoise(0.05),\n",
        "    tf.keras.layers.Conv2D(1, (3, 3), padding='same'),\n",
        "    tf.keras.layers.BatchNormalization(),\n",
        "    tf.keras.layers.Activation('relu'),\n",
        "    tf.keras.layers.Conv2D(1, (3, 3), padding='same'),\n",
        "    tf.keras.layers.BatchNormalization(),\n",
        "    tf.keras.layers.Activation('relu'),\n",
        "    tf.keras.layers.MaxPool2D((2, 2)),\n",
        "    tf.keras.layers.GaussianNoise(0.05),\n",
        "    tf.keras.layers.Conv2D(2, (3, 3), padding='same'),\n",
        "    tf.keras.layers.BatchNormalization(),\n",
        "    tf.keras.layers.Activation('relu'),\n",
        "    tf.keras.layers.Conv2D(2, (3, 3), padding='same'),\n",
        "    tf.keras.layers.BatchNormalization(),\n",
        "    tf.keras.layers.Activation('sigmoid'),\n",
        "    tf.keras.layers.MaxPool2D((2, 2)),\n",
        "    tf.keras.layers.Flatten(),\n",
        "    tf.keras.layers.Dense(1)\n",
        "])\n",
        "model_135_60 = tf.keras.models.Sequential([\n",
        "    tf.keras.layers.GaussianNoise(0.05),\n",
        "    tf.keras.layers.Conv2D(1, (3, 3), padding='same'),\n",
        "    tf.keras.layers.BatchNormalization(),\n",
        "    tf.keras.layers.Activation('relu'),\n",
        "    tf.keras.layers.Conv2D(1, (3, 3), padding='same'),\n",
        "    tf.keras.layers.BatchNormalization(),\n",
        "    tf.keras.layers.Activation('relu'),\n",
        "    tf.keras.layers.MaxPool2D((2, 2)),\n",
        "    tf.keras.layers.GaussianNoise(0.05),\n",
        "    tf.keras.layers.Conv2D(2, (3, 3), padding='same'),\n",
        "    tf.keras.layers.BatchNormalization(),\n",
        "    tf.keras.layers.Activation('relu'),\n",
        "    tf.keras.layers.Conv2D(2, (3, 3), padding='same'),\n",
        "    tf.keras.layers.BatchNormalization(),\n",
        "    tf.keras.layers.Activation('sigmoid'),\n",
        "    tf.keras.layers.MaxPool2D((2, 2)),\n",
        "    tf.keras.layers.Flatten(),\n",
        "    tf.keras.layers.Dense(1)\n",
        "])\n",
        "model_135_90 = tf.keras.models.Sequential([\n",
        "    tf.keras.layers.GaussianNoise(0.05),\n",
        "    tf.keras.layers.Conv2D(1, (3, 3), padding='same'),\n",
        "    tf.keras.layers.BatchNormalization(),\n",
        "    tf.keras.layers.Activation('relu'),\n",
        "    tf.keras.layers.Conv2D(1, (3, 3), padding='same'),\n",
        "    tf.keras.layers.BatchNormalization(),\n",
        "    tf.keras.layers.Activation('relu'),\n",
        "    tf.keras.layers.MaxPool2D((2, 2)),\n",
        "    tf.keras.layers.GaussianNoise(0.05),\n",
        "    tf.keras.layers.Conv2D(2, (3, 3), padding='same'),\n",
        "    tf.keras.layers.BatchNormalization(),\n",
        "    tf.keras.layers.Activation('relu'),\n",
        "    tf.keras.layers.Conv2D(2, (3, 3), padding='same'),\n",
        "    tf.keras.layers.BatchNormalization(),\n",
        "    tf.keras.layers.Activation('sigmoid'),\n",
        "    tf.keras.layers.MaxPool2D((2, 2)),\n",
        "    tf.keras.layers.Flatten(),\n",
        "    tf.keras.layers.Dense(1)\n",
        "])"
      ]
    },
    {
      "cell_type": "code",
      "execution_count": 87,
      "metadata": {
        "id": "SxVa3rypOCNK"
      },
      "outputs": [],
      "source": [
        "model_135_30.compile(optimizer=my_optimizer, loss=loss_fn, metrics=['accuracy'])"
      ]
    },
    {
      "cell_type": "code",
      "execution_count": 88,
      "metadata": {
        "id": "eQO6TwfCOCdS",
        "colab": {
          "base_uri": "https://localhost:8080/"
        },
        "outputId": "83c24317-72a5-4b0c-fcb5-a7bf6c39b2a9"
      },
      "outputs": [
        {
          "output_type": "stream",
          "name": "stdout",
          "text": [
            "Epoch 1/10\n",
            "19/19 [==============================] - 21s 1s/step - loss: 2.5991 - accuracy: 0.7579 - val_loss: 3.8539 - val_accuracy: 0.8400\n",
            "Epoch 2/10\n",
            "19/19 [==============================] - 19s 1s/step - loss: 0.9540 - accuracy: 0.7858 - val_loss: 2.1181 - val_accuracy: 0.8400\n",
            "Epoch 3/10\n",
            "19/19 [==============================] - 19s 1s/step - loss: 0.5929 - accuracy: 0.8168 - val_loss: 0.7138 - val_accuracy: 0.8400\n",
            "Epoch 4/10\n",
            "19/19 [==============================] - 19s 1s/step - loss: 0.4497 - accuracy: 0.8321 - val_loss: 0.4157 - val_accuracy: 0.8400\n",
            "Epoch 5/10\n",
            "19/19 [==============================] - 19s 1s/step - loss: 0.4117 - accuracy: 0.8353 - val_loss: 0.4223 - val_accuracy: 0.8400\n",
            "Epoch 6/10\n",
            "19/19 [==============================] - 19s 1s/step - loss: 0.4060 - accuracy: 0.8353 - val_loss: 0.4440 - val_accuracy: 0.8400\n",
            "Epoch 7/10\n",
            "19/19 [==============================] - 19s 1s/step - loss: 0.4188 - accuracy: 0.8353 - val_loss: 0.4397 - val_accuracy: 0.8400\n",
            "Epoch 8/10\n",
            "19/19 [==============================] - 19s 1s/step - loss: 0.4102 - accuracy: 0.8332 - val_loss: 0.4264 - val_accuracy: 0.8400\n",
            "Epoch 9/10\n",
            "19/19 [==============================] - 19s 1s/step - loss: 0.4022 - accuracy: 0.8353 - val_loss: 0.4276 - val_accuracy: 0.8400\n",
            "Epoch 10/10\n",
            "19/19 [==============================] - 19s 1s/step - loss: 0.3962 - accuracy: 0.8379 - val_loss: 0.4355 - val_accuracy: 0.8400\n"
          ]
        },
        {
          "output_type": "execute_result",
          "data": {
            "text/plain": [
              "<keras.callbacks.History at 0x7fa3e41ccb50>"
            ]
          },
          "metadata": {},
          "execution_count": 88
        }
      ],
      "source": [
        "model_135_30.fit(x_train[:, :, 120:150, :], y_train, epochs=num_epochs, shuffle=True, batch_size = 100, steps_per_epoch=19, validation_data=(x_val[:, :, 120:150, :], y_val), validation_freq=1)"
      ]
    },
    {
      "cell_type": "code",
      "execution_count": 89,
      "metadata": {
        "id": "cFOq9hsxOCsi"
      },
      "outputs": [],
      "source": [
        "model_135_60.compile(optimizer=my_optimizer, loss=loss_fn, metrics=['accuracy'])"
      ]
    },
    {
      "cell_type": "code",
      "execution_count": 90,
      "metadata": {
        "id": "NemdHgnfODBJ",
        "colab": {
          "base_uri": "https://localhost:8080/"
        },
        "outputId": "9d805e2d-cc6d-4408-f085-1b9dbd6553a9"
      },
      "outputs": [
        {
          "output_type": "stream",
          "name": "stdout",
          "text": [
            "Epoch 1/10\n",
            "19/19 [==============================] - 40s 2s/step - loss: 9.7820 - accuracy: 0.7516 - val_loss: 8.3151 - val_accuracy: 0.8400\n",
            "Epoch 2/10\n",
            "19/19 [==============================] - 39s 2s/step - loss: 2.9656 - accuracy: 0.7416 - val_loss: 1.2897 - val_accuracy: 0.8400\n",
            "Epoch 3/10\n",
            "19/19 [==============================] - 39s 2s/step - loss: 0.7925 - accuracy: 0.7900 - val_loss: 1.0808 - val_accuracy: 0.8400\n",
            "Epoch 4/10\n",
            "19/19 [==============================] - 39s 2s/step - loss: 0.4657 - accuracy: 0.8247 - val_loss: 0.4395 - val_accuracy: 0.8400\n",
            "Epoch 5/10\n",
            "19/19 [==============================] - 39s 2s/step - loss: 0.4208 - accuracy: 0.8353 - val_loss: 0.4451 - val_accuracy: 0.8400\n",
            "Epoch 6/10\n",
            "19/19 [==============================] - 39s 2s/step - loss: 0.4135 - accuracy: 0.8358 - val_loss: 0.4160 - val_accuracy: 0.8400\n",
            "Epoch 7/10\n",
            "19/19 [==============================] - 39s 2s/step - loss: 0.4374 - accuracy: 0.8342 - val_loss: 0.4163 - val_accuracy: 0.8400\n",
            "Epoch 8/10\n",
            "19/19 [==============================] - 39s 2s/step - loss: 0.4126 - accuracy: 0.8358 - val_loss: 0.4186 - val_accuracy: 0.8400\n",
            "Epoch 9/10\n",
            "19/19 [==============================] - 39s 2s/step - loss: 0.4149 - accuracy: 0.8337 - val_loss: 0.4265 - val_accuracy: 0.8400\n",
            "Epoch 10/10\n",
            "19/19 [==============================] - 39s 2s/step - loss: 0.4089 - accuracy: 0.8347 - val_loss: 0.4173 - val_accuracy: 0.8400\n"
          ]
        },
        {
          "output_type": "execute_result",
          "data": {
            "text/plain": [
              "<keras.callbacks.History at 0x7fa3e3f53410>"
            ]
          },
          "metadata": {},
          "execution_count": 90
        }
      ],
      "source": [
        "model_135_60.fit(x_train[:, :, 105:165, :], y_train, epochs=num_epochs, shuffle=True, batch_size = 100, steps_per_epoch=19, validation_data=(x_val[:, :, 105:165, :], y_val), validation_freq=1)"
      ]
    },
    {
      "cell_type": "code",
      "execution_count": 91,
      "metadata": {
        "id": "7g7IApzYODNt"
      },
      "outputs": [],
      "source": [
        "model_135_90.compile(optimizer=my_optimizer, loss=loss_fn, metrics=['accuracy'])"
      ]
    },
    {
      "cell_type": "code",
      "execution_count": 92,
      "metadata": {
        "id": "KBmuSCZFODcE",
        "colab": {
          "base_uri": "https://localhost:8080/"
        },
        "outputId": "29fb4e63-d0ed-4cd4-d02b-daa34aeadd6a"
      },
      "outputs": [
        {
          "output_type": "stream",
          "name": "stdout",
          "text": [
            "Epoch 1/10\n",
            "19/19 [==============================] - 59s 3s/step - loss: 8.3415 - accuracy: 0.7274 - val_loss: 7.1838 - val_accuracy: 0.8400\n",
            "Epoch 2/10\n",
            "19/19 [==============================] - 57s 3s/step - loss: 2.9896 - accuracy: 0.7689 - val_loss: 0.7603 - val_accuracy: 0.5400\n",
            "Epoch 3/10\n",
            "19/19 [==============================] - 57s 3s/step - loss: 0.7792 - accuracy: 0.7921 - val_loss: 0.7954 - val_accuracy: 0.8400\n",
            "Epoch 4/10\n",
            "19/19 [==============================] - 57s 3s/step - loss: 0.6872 - accuracy: 0.7811 - val_loss: 0.4630 - val_accuracy: 0.8200\n",
            "Epoch 5/10\n",
            "19/19 [==============================] - 57s 3s/step - loss: 0.4737 - accuracy: 0.8332 - val_loss: 0.7236 - val_accuracy: 0.6200\n",
            "Epoch 6/10\n",
            "19/19 [==============================] - 57s 3s/step - loss: 0.4669 - accuracy: 0.8347 - val_loss: 0.5763 - val_accuracy: 0.8400\n",
            "Epoch 7/10\n",
            "19/19 [==============================] - 58s 3s/step - loss: 0.4704 - accuracy: 0.8305 - val_loss: 0.5211 - val_accuracy: 0.8400\n",
            "Epoch 8/10\n",
            "19/19 [==============================] - 57s 3s/step - loss: 0.4561 - accuracy: 0.8347 - val_loss: 0.5278 - val_accuracy: 0.8300\n",
            "Epoch 9/10\n",
            "19/19 [==============================] - 57s 3s/step - loss: 0.4250 - accuracy: 0.8321 - val_loss: 0.4612 - val_accuracy: 0.8400\n",
            "Epoch 10/10\n",
            "19/19 [==============================] - 57s 3s/step - loss: 0.4322 - accuracy: 0.8321 - val_loss: 0.4641 - val_accuracy: 0.8400\n"
          ]
        },
        {
          "output_type": "execute_result",
          "data": {
            "text/plain": [
              "<keras.callbacks.History at 0x7fa3e3f43d50>"
            ]
          },
          "metadata": {},
          "execution_count": 92
        }
      ],
      "source": [
        "model_135_90.fit(x_train[:, :, 90:180, :], y_train, epochs=num_epochs, shuffle=True, batch_size = 100, steps_per_epoch=19, validation_data=(x_val[:, :, 90:180, :], y_val), validation_freq=1)"
      ]
    },
    {
      "cell_type": "code",
      "source": [
        "os.chdir('/content/')"
      ],
      "metadata": {
        "id": "Xsmpuh5SWuVK"
      },
      "execution_count": 93,
      "outputs": []
    },
    {
      "cell_type": "code",
      "source": [
        "my_model.save('full_scan')\n",
        "model_45_30.save('model_45_30')\n",
        "model_45_60.save('model_45_60')\n",
        "model_45_90.save('model_45_90')\n",
        "model_90_30.save('model_90_30')\n",
        "model_90_60.save('model_90_60')\n",
        "model_90_60.save('model_90_90')\n",
        "model_135_30.save('model_135_30')\n",
        "model_135_60.save('model_135_60')\n",
        "model_135_90.save('model_135_90')"
      ],
      "metadata": {
        "colab": {
          "base_uri": "https://localhost:8080/"
        },
        "id": "NRKcgKxSXGSp",
        "outputId": "3b859b4a-b2c9-4149-aa3a-ade2c2871ff6"
      },
      "execution_count": 94,
      "outputs": [
        {
          "output_type": "stream",
          "name": "stdout",
          "text": [
            "INFO:tensorflow:Assets written to: full_scan/assets\n",
            "INFO:tensorflow:Assets written to: model_45_30/assets\n",
            "INFO:tensorflow:Assets written to: model_45_60/assets\n",
            "INFO:tensorflow:Assets written to: model_45_90/assets\n",
            "INFO:tensorflow:Assets written to: model_90_30/assets\n",
            "INFO:tensorflow:Assets written to: model_90_60/assets\n",
            "INFO:tensorflow:Assets written to: model_90_90/assets\n",
            "INFO:tensorflow:Assets written to: model_135_30/assets\n",
            "INFO:tensorflow:Assets written to: model_135_60/assets\n",
            "INFO:tensorflow:Assets written to: model_135_90/assets\n"
          ]
        }
      ]
    }
  ],
  "metadata": {
    "colab": {
      "collapsed_sections": [],
      "name": "548_Final_Project.ipynb",
      "provenance": []
    },
    "kernelspec": {
      "display_name": "Python 3",
      "name": "python3"
    },
    "language_info": {
      "name": "python"
    }
  },
  "nbformat": 4,
  "nbformat_minor": 0
}